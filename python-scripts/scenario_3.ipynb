{
 "cells": [
  {
   "cell_type": "code",
   "execution_count": null,
   "id": "2dbd9c31",
   "metadata": {},
   "outputs": [],
   "source": [
    "import time\n",
    "import serial\n",
    "import subprocess\n",
    "import os\n",
    "os.add_dll_directory(r'C:\\Program Files\\VideoLAN\\VLC') \n",
    "import vlc\n",
    "from os import startfile"
   ]
  },
  {
   "cell_type": "code",
   "execution_count": null,
   "id": "666c363a",
   "metadata": {},
   "outputs": [],
   "source": [
    "# creating Instance class object\n",
    "player = vlc.Instance\n",
    "\n",
    "# Open the video using a default media player\n",
    "video_path = \"../scenario-videos/scenario_3_road.mp4\"\n",
    "# Update with your video file path\n",
    "\n",
    "# create a new instance of the media player\n",
    "media_player = vlc.MediaPlayer()\n",
    "\n",
    "# set the media to play\n",
    "media = vlc.Media(\"../scenario-videos/scenario_3_road.mp4\")\n",
    "media_player.set_media(media)"
   ]
  },
  {
   "cell_type": "code",
   "execution_count": null,
   "id": "9a03eab3",
   "metadata": {},
   "outputs": [],
   "source": [
    "# Set the serial port and baud rate\n",
    "serial_port = 'COM7'  # Update with your Arduino's serial port\n",
    "baud_rate = 9600"
   ]
  },
  {
   "cell_type": "code",
   "execution_count": null,
   "id": "afe00ec2",
   "metadata": {},
   "outputs": [],
   "source": [
    "# Open the serial connection\n",
    "ser = serial.Serial(serial_port, baud_rate)\n",
    "time.sleep(2)  # Allow time for the connection to establish"
   ]
  },
  {
   "cell_type": "code",
   "execution_count": null,
   "id": "e3889b4a",
   "metadata": {},
   "outputs": [],
   "source": [
    "# Wait for the command from Arduino to start the video\n",
    "        \n",
    "i = 0\n",
    "while i < 1:\n",
    "  command = ser.readline().decode(\"ascii\").strip()\n",
    "  print(command)\n",
    "  if command == \"runvideo\":\n",
    "    i += 1"
   ]
  },
  {
   "cell_type": "code",
   "execution_count": null,
   "id": "9ca14a00",
   "metadata": {},
   "outputs": [],
   "source": [
    "#startfile(\"D:/INDUSTRIAL DESIGN/Future Mobility/video.mp4\")\n",
    "\n",
    "# start playing video\n",
    "media_player.play()\n",
    "\n",
    "# make the player go fullscreen\n",
    "media_player.set_fullscreen(True)"
   ]
  }
 ],
 "metadata": {
  "kernelspec": {
   "display_name": "Python 3 (ipykernel)",
   "language": "python",
   "name": "python3"
  },
  "language_info": {
   "codemirror_mode": {
    "name": "ipython",
    "version": 3
   },
   "file_extension": ".py",
   "mimetype": "text/x-python",
   "name": "python",
   "nbconvert_exporter": "python",
   "pygments_lexer": "ipython3",
   "version": "3.10.7"
  }
 },
 "nbformat": 4,
 "nbformat_minor": 5
}
